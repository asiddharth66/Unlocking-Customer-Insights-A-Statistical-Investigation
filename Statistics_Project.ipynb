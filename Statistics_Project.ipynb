{
  "cells": [
    {
      "cell_type": "markdown",
      "metadata": {
        "id": "HoltK1H6f6cD"
      },
      "source": [
        "\n",
        "\n",
        "---\n",
        "\n",
        "**Unlocking Customer Insights: A Statistical Investigation**\n",
        "\n",
        "---\n",
        "\n"
      ]
    },
    {
      "cell_type": "code",
      "execution_count": null,
      "metadata": {
        "id": "yCnv9wR96U0G"
      },
      "outputs": [
        {
          "ename": "",
          "evalue": "",
          "output_type": "error",
          "traceback": [
            "\u001b[1;31mRunning cells with 'Python 3.10.0' requires the ipykernel package.\n",
            "\u001b[1;31m<a href='command:jupyter.createPythonEnvAndSelectController'>Create a Python Environment</a> with the required packages."
          ]
        }
      ],
      "source": [
        "import pandas as pd\n",
        "import numpy as np\n",
        "import matplotlib.pyplot as plt\n",
        "import seaborn as sns"
      ]
    },
    {
      "cell_type": "markdown",
      "metadata": {
        "id": "2AcUymOxIr9T"
      },
      "source": [
        "\n",
        "\n",
        "---\n",
        "\n",
        "\n",
        "**1. Understand Data**"
      ]
    },
    {
      "cell_type": "code",
      "execution_count": null,
      "metadata": {
        "id": "v7n7mczQCC3u"
      },
      "outputs": [],
      "source": [
        "df = pd.read_csv(\"/content/US_Customer_Insights_Dataset.csv\")"
      ]
    },
    {
      "cell_type": "code",
      "execution_count": null,
      "metadata": {
        "id": "ys7cMaxACKGy"
      },
      "outputs": [],
      "source": [
        "print(df.head())\n",
        "print(df.info())\n",
        "print(df.isnull().sum()) # All is fine There is no null values in the Dataset"
      ]
    },
    {
      "cell_type": "code",
      "execution_count": null,
      "metadata": {
        "id": "U32qOHaNCT44"
      },
      "outputs": [],
      "source": [
        "print(df.describe())"
      ]
    },
    {
      "cell_type": "code",
      "execution_count": null,
      "metadata": {
        "id": "0ctBvi6kCtXo"
      },
      "outputs": [],
      "source": [
        "# I clearify which variable is categorical and which is numerical\n",
        "categorical = df.select_dtypes(include=['object']).columns.tolist()\n",
        "numerical = df.select_dtypes(include=['int64', 'float64']).columns.tolist()\n",
        "print(f\"Categorical columns: {categorical}\")\n",
        "print(f\"Numerical columns: {numerical}\")"
      ]
    },
    {
      "cell_type": "code",
      "execution_count": null,
      "metadata": {
        "id": "Q2IeimvPKvLg"
      },
      "outputs": [],
      "source": [
        "# Identify unique values\n",
        "print('Unique values for Education:', df['Education'].unique())\n",
        "print('Unique values for Gender:', df['Gender'].unique())\n",
        "print('Unique values for State:', df['State'].unique())\n",
        "print('Unique values for Married:', df['Married'].unique())"
      ]
    },
    {
      "cell_type": "markdown",
      "metadata": {
        "id": "x7sP3tUYKJMP"
      },
      "source": [
        "\n",
        "\n",
        "---\n",
        "\n",
        "\n",
        "**2. Descriptive Statistics**"
      ]
    },
    {
      "cell_type": "code",
      "execution_count": null,
      "metadata": {
        "id": "AH4o4fyvHASb"
      },
      "outputs": [],
      "source": [
        "print(\"Descriptive Statistics\")\n",
        "\n",
        "# Numerical columns: Mean, median, std dev\n",
        "numerical_cols = ['Age', 'MonthlySpend', 'DaysSinceLastInteraction']\n",
        "print(\"\\nDescriptive statistics for numerical columns:\")\n",
        "display(df[numerical_cols].agg(['mean', 'median', 'std']))\n"
      ]
    },
    {
      "cell_type": "code",
      "execution_count": null,
      "metadata": {
        "id": "q_FFeYvCLvxL"
      },
      "outputs": [],
      "source": [
        "# Categorical columns: Mode\n",
        "print(\"Descriptive Statistics\")\n",
        "categorical_cols = ['Gender', 'Education', 'Married']\n",
        "print(\"\\nMode for categorical columns:\")\n",
        "for col in categorical_cols:\n",
        "    print(f\"Mode of {col}: {df[col].mode()[0]}\")"
      ]
    },
    {
      "cell_type": "markdown",
      "metadata": {
        "id": "lV-grY-dM_Bq"
      },
      "source": [
        "\n",
        "\n",
        "---\n",
        "\n",
        "\n",
        "**3. Data Visualization**"
      ]
    },
    {
      "cell_type": "code",
      "execution_count": null,
      "metadata": {
        "id": "vM8R5LNyMnfX"
      },
      "outputs": [],
      "source": [
        "# Histogram for Age\n",
        "sns.histplot(df['Age'], kde=True)\n",
        "plt.title('Age Distribution')\n",
        "plt.xlabel('Age')\n",
        "plt.ylabel('Frequency')\n",
        "plt.show()"
      ]
    },
    {
      "cell_type": "code",
      "execution_count": null,
      "metadata": {
        "id": "Yq7VJLBzVDG7"
      },
      "outputs": [],
      "source": [
        "# Boxplot for Age\n",
        "sns.boxplot(x=df['Age'])\n",
        "plt.title('Age - Boxplot')\n",
        "plt.show()"
      ]
    },
    {
      "cell_type": "code",
      "execution_count": null,
      "metadata": {
        "id": "vQQih6OtP018"
      },
      "outputs": [],
      "source": [
        "# Histogram for MonthlySpend\n",
        "sns.histplot(df['MonthlySpend'], kde=True)\n",
        "plt.title('Monthly Spend Distribution')\n",
        "plt.xlabel('Monthly Spend (USD)')\n",
        "plt.ylabel('Frequency')\n",
        "plt.show()"
      ]
    },
    {
      "cell_type": "code",
      "execution_count": null,
      "metadata": {
        "id": "qm0-CkzXP9xl"
      },
      "outputs": [],
      "source": [
        "# Boxplot for MonthlySpend\n",
        "sns.boxplot(x=df['MonthlySpend'])\n",
        "plt.title('Monthly Spend - Boxplot')\n",
        "plt.show()"
      ]
    },
    {
      "cell_type": "code",
      "execution_count": null,
      "metadata": {
        "id": "O6l36LOnVVQ2"
      },
      "outputs": [],
      "source": [
        "# Bar chart for Gender\n",
        "sns.countplot(x='Gender', data=df)\n",
        "plt.title('Gender Distribution')\n",
        "plt.show()"
      ]
    },
    {
      "cell_type": "code",
      "execution_count": null,
      "metadata": {
        "id": "mX6P8aHiV76H"
      },
      "outputs": [],
      "source": [
        "# Bar chart for Education\n",
        "sns.countplot(x='Education', data=df)\n",
        "plt.title('Education Distribution')\n",
        "plt.show()"
      ]
    },
    {
      "cell_type": "code",
      "execution_count": null,
      "metadata": {
        "id": "wtK2XHqZV8Y8"
      },
      "outputs": [],
      "source": [
        "# Bar chart for State\n",
        "df['State'].value_counts().plot(kind='bar')\n",
        "plt.title('Customers per State')\n",
        "plt.xlabel('State')\n",
        "plt.ylabel('Count')\n",
        "plt.show()"
      ]
    },
    {
      "cell_type": "code",
      "execution_count": null,
      "metadata": {
        "id": "nvvtju4lWFeO"
      },
      "outputs": [],
      "source": [
        "# Scatterplot Age vs MonthlySpend\n",
        "sns.scatterplot(x='Age', y='MonthlySpend', data=df)\n",
        "plt.title('Age vs Monthly Spend')\n",
        "plt.show()"
      ]
    },
    {
      "cell_type": "code",
      "execution_count": null,
      "metadata": {
        "id": "swJMFf3OWJ8L"
      },
      "outputs": [],
      "source": [
        "# KDE by Education Level, MonthlySpend\n",
        "sns.kdeplot(data=df, x='MonthlySpend', hue='Education', fill=True)\n",
        "plt.title('Monthly Spend by Education')\n",
        "plt.show()"
      ]
    },
    {
      "cell_type": "code",
      "execution_count": null,
      "metadata": {
        "id": "fs5UXBdOWJwy"
      },
      "outputs": [],
      "source": [
        "# KDE by Marital Status, MonthlySpend\n",
        "sns.kdeplot(data=df, x='MonthlySpend', hue='Married', fill=True)\n",
        "plt.title('Monthly Spend by Marital Status')\n",
        "plt.show()"
      ]
    },
    {
      "cell_type": "markdown",
      "metadata": {
        "id": "B1sCka_xXrof"
      },
      "source": [
        "\n",
        "\n",
        "---\n",
        "\n",
        "\n",
        "**4. Bivariate Analysis**"
      ]
    },
    {
      "cell_type": "code",
      "execution_count": null,
      "metadata": {
        "id": "sS5dV-cnXkSY"
      },
      "outputs": [],
      "source": [
        "# Correlation matrix\n",
        "print(df[numerical_cols].corr())"
      ]
    },
    {
      "cell_type": "code",
      "execution_count": null,
      "metadata": {
        "id": "RF3lAvPbYjwv"
      },
      "outputs": [],
      "source": [
        "# Crosstab Gender vs Married\n",
        "print(pd.crosstab(df['Gender'], df['Married']))"
      ]
    },
    {
      "cell_type": "code",
      "execution_count": null,
      "metadata": {
        "id": "oh9oM3wbYnGw"
      },
      "outputs": [],
      "source": [
        "# Grouped stats: Average MonthlySpend by State, Education, Gender\n",
        "print(df.groupby('State')['MonthlySpend'].mean())\n",
        "print(df.groupby('Education')['MonthlySpend'].mean())\n",
        "print(df.groupby('Gender')['MonthlySpend'].mean())"
      ]
    },
    {
      "cell_type": "markdown",
      "metadata": {
        "id": "xzqoILFpbneE"
      },
      "source": [
        "\n",
        "\n",
        "---\n",
        "\n",
        "\n",
        "**5. Formulate Hypotheses**"
      ]
    },
    {
      "cell_type": "code",
      "execution_count": null,
      "metadata": {
        "id": "ADj2ypzLYzS6"
      },
      "outputs": [],
      "source": [
        "# Hypothesis 1: Age and spending\n",
        "# Null Hypothesis (H0): There is no linear relationship between Age and MonthlySpend.\n",
        "# Alternative Hypothesis (H1): There is a linear relationship between Age and MonthlySpend.\n",
        "print(\"\\nHypothesis 1: Age and MonthlySpend\")\n",
        "print(\"H0: There is no linear relationship between Age and MonthlySpend.\")\n",
        "print(\"H1: There is a linear relationship between Age and MonthlySpend.\")"
      ]
    },
    {
      "cell_type": "code",
      "execution_count": null,
      "metadata": {
        "id": "oB40mVz_ZZ75"
      },
      "outputs": [],
      "source": [
        "# Hypothesis 2: Gender and transaction frequency\n",
        "# To analyze transaction frequency, we would typically need multiple transactions per customer.\n",
        "# Since we only have 'TransactionDate' and 'JoinDate', and no explicit transaction count per customer,\n",
        "# we can interpret \"transaction frequency\" as simply having made a transaction (implied by the data existing)\n",
        "# or focus on engagement metrics derived from the dates if possible.\n",
        "# However, without multiple transactions per customer, a direct \"transaction frequency\" comparison by Gender is difficult.\n",
        "# Let's re-interpret \"transaction frequency\" as average MonthlySpend for simplicity given the available data,\n",
        "# as spending can be a proxy for engagement/frequency in this dataset.\n",
        "# Null Hypothesis (H0): The average MonthlySpend is the same across different Genders.\n",
        "# Alternative Hypothesis (H1): The average MonthlySpend is different for at least one Gender.\n",
        "print(\"\\nHypothesis 2: Gender and MonthlySpend (as a proxy for transaction frequency/engagement)\")\n",
        "print(\"H0: The average MonthlySpend is the same across different Genders.\")\n",
        "print(\"H1: The average MonthlySpend is different for at least one Gender.\")"
      ]
    },
    {
      "cell_type": "code",
      "execution_count": null,
      "metadata": {
        "id": "F5N6J4ocZae_"
      },
      "outputs": [],
      "source": [
        "# Hypothesis 3: Geography and engagement\n",
        "# Similar to transaction frequency, \"engagement\" needs a clear definition from the data.\n",
        "# 'DaysSinceLastInteraction' could be a measure of recency of engagement.\n",
        "# Let's test if the average 'DaysSinceLastInteraction' is the same across different States.\n",
        "# Null Hypothesis (H0): The average DaysSinceLastInteraction is the same across different States.\n",
        "# Alternative Hypothesis (H1): The average DaysSinceLastInteraction is different for at least one State.\n",
        "print(\"\\nHypothesis 3: State and DaysSinceLastInteraction (as a proxy for engagement)\")\n",
        "print(\"H0: The average DaysSinceLastInteraction is the same across different States.\")\n",
        "print(\"H1: The average DaysSinceLastInteraction is different for at least one State.\")"
      ]
    },
    {
      "cell_type": "markdown",
      "metadata": {
        "id": "xTbPvTMacsTG"
      },
      "source": [
        "\n",
        "\n",
        "---\n",
        "\n",
        "\n",
        "**6. Run Hypothesis Tests**"
      ]
    },
    {
      "cell_type": "markdown",
      "metadata": {
        "id": "diEEXLZoc9DY"
      },
      "source": [
        "t-test: MonthlySpend by Gender (Male vs Female)"
      ]
    },
    {
      "cell_type": "code",
      "execution_count": null,
      "metadata": {
        "id": "hu7GhwRkcJYg"
      },
      "outputs": [],
      "source": [
        "from scipy.stats import ttest_ind\n",
        "\n",
        "# Filter by gender\n",
        "spend_male = df[df['Gender'] == 'Male']['MonthlySpend']\n",
        "spend_female = df[df['Gender'] == 'Female']['MonthlySpend']\n",
        "\n",
        "t_stat, p_value = ttest_ind(spend_male, spend_female, nan_policy='omit')\n",
        "print('T-Test Male vs Female Monthly Spend: t-stat=', t_stat, ', p-value=', p_value)"
      ]
    },
    {
      "cell_type": "markdown",
      "metadata": {
        "id": "yXRs1pb9dWKx"
      },
      "source": [
        "ANOVA: MonthlySpend by Education"
      ]
    },
    {
      "cell_type": "code",
      "execution_count": null,
      "metadata": {
        "id": "g7S8dsdPdgB8"
      },
      "outputs": [],
      "source": [
        "from scipy.stats import f_oneway\n",
        "\n",
        "edu_groups = [group['MonthlySpend'].dropna() for name, group in df.groupby('Education')]\n",
        "f_stat, p_value = f_oneway(*edu_groups)\n",
        "print('ANOVA Monthly Spend by Education: F-stat=', f_stat, ', p-value=', p_value)"
      ]
    },
    {
      "cell_type": "markdown",
      "metadata": {
        "id": "s99RpFotduuQ"
      },
      "source": [
        "Chi-square: Marital Status vs NumPets"
      ]
    },
    {
      "cell_type": "code",
      "execution_count": null,
      "metadata": {
        "id": "7PedtBQCd2e8"
      },
      "outputs": [],
      "source": [
        "from scipy.stats import chi2_contingency\n",
        "\n",
        "crosstab = pd.crosstab(df['Married'], df['NumPets'])\n",
        "chi2, p, dof, expected = chi2_contingency(crosstab)\n",
        "print('Chi-square Marital Status vs NumPets: chi2=', chi2, ', p-value=', p)\n"
      ]
    },
    {
      "cell_type": "markdown",
      "metadata": {
        "id": "qtfA9DWsed5M"
      },
      "source": [
        "Correlation: Age vs DaysSinceLastInteraction"
      ]
    },
    {
      "cell_type": "code",
      "execution_count": null,
      "metadata": {
        "id": "bjJMnB3od6n-"
      },
      "outputs": [],
      "source": [
        "corr = df['Age'].corr(df['DaysSinceLastInteraction'])\n",
        "print('Correlation between Age and Days Since Last Interaction:', corr)"
      ]
    },
    {
      "cell_type": "markdown",
      "metadata": {
        "id": "H2woJ29Neo_y"
      },
      "source": [
        "ANOVA: State-wise Monthly Spend"
      ]
    },
    {
      "cell_type": "code",
      "execution_count": null,
      "metadata": {
        "id": "FaqaRlXKejaM"
      },
      "outputs": [],
      "source": [
        "state_groups = [group['MonthlySpend'].dropna() for name, group in df.groupby('State')]\n",
        "f_stat, p_value = f_oneway(*state_groups)\n",
        "print('ANOVA Monthly Spend by State: F-stat=', f_stat, ', p-value=', p_value)"
      ]
    },
    {
      "cell_type": "markdown",
      "metadata": {
        "id": "J9dIu1gifE63"
      },
      "source": [
        "\n",
        "\n",
        "---\n",
        "\n",
        "\n",
        "**7. Present Business Insights**"
      ]
    },
    {
      "cell_type": "markdown",
      "metadata": {
        "id": "9hFlfPxukyOl"
      },
      "source": [
        "- The average customer is around 49.5 years old, spends about $331.61 monthly, and their last interaction was approximately 538 days ago.\n",
        "- The most common gender is Male, the most common education level is Master, and most customers are not married.\n",
        "- The distribution of MonthlySpend is right-skewed, indicating that most customers spend less, with a few high spenders (outliers visible in the boxplot).\n",
        "- Customer distribution across different States and Education levels is relatively even.\n",
        "- There is a very weak linear relationship between Age and MonthlySpend based on the correlation analysis.\n",
        "- The distribution of Married status is similar across different Genders.\n",
        "- While average MonthlySpend varies slightly by State, Education, and Gender, these differences were not statistically significant in the hypothesis tests for Gender and MonthlySpend.\n",
        "- Hypothesis testing showed no significant linear relationship between Age and MonthlySpend, and no significant difference in average MonthlySpend across Genders.\n",
        "- However, there is a statistically significant difference in the average DaysSinceLastInteraction across different States, suggesting that customer engagement (based on recency) varies by geography."
      ]
    },
    {
      "cell_type": "markdown",
      "metadata": {
        "id": "HKJ5tyJ-m8pE"
      },
      "source": [
        "\n",
        "\n",
        "---\n",
        "\n",
        "\n",
        "**Data Analysis Key Findings** <br>\n",
        "\n",
        "\n",
        "*   The dataset contains no missing values.\n",
        "*    The distribution of MonthlySpend is right-skewed, with a few high spenders.\n",
        "\n",
        "*   Customer distribution across different States and Education levels is relatively even.\n",
        "*   The distribution of Married status is similar across different Genders.\n",
        "\n",
        "*   Hypothesis testing revealed no statistically significant linear relationship between Age and MonthlySpend (p-value: 0.4992).\n",
        "*   Hypothesis testing found no statistically significant difference in average MonthlySpend across Genders (p-value: 0.9065).\n",
        "\n",
        "*   Hypothesis testing indicated a statistically significant difference in average DaysSinceLastInteraction across different States (p-value: 0.0000), suggesting geographical variation in customer engagement recency.\n",
        "\n",
        "\n",
        "\n",
        "\n",
        "\n",
        "\n",
        "\n",
        "\n"
      ]
    },
    {
      "cell_type": "code",
      "execution_count": null,
      "metadata": {
        "id": "TKdWVVj0k5tx"
      },
      "outputs": [],
      "source": []
    },
    {
      "cell_type": "code",
      "execution_count": null,
      "metadata": {
        "id": "po6XfbPXo9KS"
      },
      "outputs": [],
      "source": []
    }
  ],
  "metadata": {
    "colab": {
      "private_outputs": true,
      "provenance": []
    },
    "kernelspec": {
      "display_name": "Python 3",
      "name": "python3"
    },
    "language_info": {
      "name": "python",
      "version": "3.10.0"
    }
  },
  "nbformat": 4,
  "nbformat_minor": 0
}
